{
 "cells": [
  {
   "cell_type": "code",
   "execution_count": 22,
   "id": "87bce09e",
   "metadata": {},
   "outputs": [
    {
     "name": "stdout",
     "output_type": "stream",
     "text": [
      "1\n",
      "1\n",
      "2\n",
      "3\n",
      "5\n",
      "8\n",
      "13\n",
      "21\n",
      "34\n"
     ]
    }
   ],
   "source": [
    "#write python programme to get Fibonacci series between 0 to 50\n",
    "#Fabonacci sequence series number 0,1,1,2,3,5,8,13,21\n",
    "p1=0\n",
    "c1=1\n",
    "\n",
    "while c1<50:\n",
    "    print(c1)\n",
    "    p1,c1=c1,p1+c1"
   ]
  },
  {
   "cell_type": "code",
   "execution_count": 2,
   "id": "7ddcce70",
   "metadata": {},
   "outputs": [
    {
     "name": "stdout",
     "output_type": "stream",
     "text": [
      "please enter string name: Edyoda\n",
      "adoydE\n"
     ]
    }
   ],
   "source": [
    "#Write python programme that accept a word from user and reverse it \n",
    "Word= input(\"please enter string name: \")\n",
    "len_of_Word= len(Word)\n",
    "y=len_of_Word\n",
    "\n",
    "rev=(\"\")\n",
    "while y>0:\n",
    "    rev += Word[y-1]\n",
    "    y=y-1\n",
    "print(rev)\n"
   ]
  },
  {
   "cell_type": "code",
   "execution_count": 24,
   "id": "a6c38b78",
   "metadata": {},
   "outputs": [
    {
     "name": "stdout",
     "output_type": "stream",
     "text": [
      " even numbers in Tuple : 4\n",
      " odd numbers in Tuple : 5\n"
     ]
    }
   ],
   "source": [
    "#Write python programme to count the number of even and odd number from series number\n",
    "\n",
    "T= (1, 2, 3, 4, 5, 6, 7, 8, 9)\n",
    "odd_count = 0\n",
    "even_count = 0\n",
    "for num in T:\n",
    "        if num%2==0 :\n",
    "            even_count+=1\n",
    "        else:\n",
    "            odd_count+=1\n",
    "print(\" even numbers in Tuple :\",even_count)\n",
    "print(\" odd numbers in Tuple :\",odd_count)\n"
   ]
  }
 ],
 "metadata": {
  "kernelspec": {
   "display_name": "Python 3 (ipykernel)",
   "language": "python",
   "name": "python3"
  },
  "language_info": {
   "codemirror_mode": {
    "name": "ipython",
    "version": 3
   },
   "file_extension": ".py",
   "mimetype": "text/x-python",
   "name": "python",
   "nbconvert_exporter": "python",
   "pygments_lexer": "ipython3",
   "version": "3.8.12"
  }
 },
 "nbformat": 4,
 "nbformat_minor": 5
}
